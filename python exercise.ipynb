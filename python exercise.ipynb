{
 "cells": [
  {
   "cell_type": "code",
   "execution_count": 2,
   "metadata": {},
   "outputs": [],
   "source": [
    "#1 max function if else if \n",
    "def max(num1, num2):\n",
    "    if num1>num2:\n",
    "        return num1\n",
    "    else:\n",
    "        return num2"
   ]
  },
  {
   "cell_type": "code",
   "execution_count": 4,
   "metadata": {},
   "outputs": [
    {
     "data": {
      "text/plain": [
       "65"
      ]
     },
     "execution_count": 4,
     "metadata": {},
     "output_type": "execute_result"
    }
   ],
   "source": [
    "max(20,65)"
   ]
  },
  {
   "cell_type": "code",
   "execution_count": 9,
   "metadata": {},
   "outputs": [],
   "source": [
    "#2 taking 3 argument\n",
    "def max(num1 , num2, num3):\n",
    "    if num1>num2>num3:\n",
    "        return num1\n",
    "    elif num2>num1>num3:\n",
    "        return num2\n",
    "    else:\n",
    "        return num3"
   ]
  },
  {
   "cell_type": "code",
   "execution_count": 10,
   "metadata": {},
   "outputs": [
    {
     "data": {
      "text/plain": [
       "43"
      ]
     },
     "execution_count": 10,
     "metadata": {},
     "output_type": "execute_result"
    }
   ],
   "source": [
    "max(12,43,6)"
   ]
  },
  {
   "cell_type": "code",
   "execution_count": 74,
   "metadata": {},
   "outputs": [],
   "source": []
  },
  {
   "cell_type": "code",
   "execution_count": null,
   "metadata": {},
   "outputs": [],
   "source": []
  },
  {
   "cell_type": "code",
   "execution_count": 39,
   "metadata": {},
   "outputs": [],
   "source": [
    "vowels = ['a', 'e', 'i', 'o', 'u']\n",
    "\n",
    "def vornot(str):\n",
    "  if str in vowels:\n",
    "    return True\n",
    "  else:\n",
    "    return False"
   ]
  },
  {
   "cell_type": "code",
   "execution_count": 46,
   "metadata": {},
   "outputs": [
    {
     "data": {
      "text/plain": [
       "False"
      ]
     },
     "execution_count": 46,
     "metadata": {},
     "output_type": "execute_result"
    }
   ],
   "source": [
    "vornot('r')"
   ]
  },
  {
   "cell_type": "code",
   "execution_count": 45,
   "metadata": {},
   "outputs": [
    {
     "data": {
      "text/plain": [
       "12"
      ]
     },
     "execution_count": 45,
     "metadata": {},
     "output_type": "execute_result"
    }
   ],
   "source": [
    "# 3 length of given list of string\n",
    "def length1(str):\n",
    "    count = 0\n",
    "    for i in str:\n",
    "        count += 1\n",
    "    return count\n",
    "\n",
    "length1(\"soumyo rocks\")"
   ]
  },
  {
   "cell_type": "code",
   "execution_count": 70,
   "metadata": {},
   "outputs": [],
   "source": [
    "#5\n",
    "import string\n",
    "\n",
    "all_letters = string.ascii_letters\n",
    "vowels = ['a','e', 'i', 'o', 'u']\n",
    "consonants = [chr for chr in all_letters if chr not in vowels]\n",
    "\n",
    "def robberlang(str):\n",
    "    result = \"\"\n",
    "    for c in str:\n",
    "        if c.lower() in consonants:\n",
    "            result += c+'o'+c\n",
    "        else:\n",
    "            result += c\n",
    "    return result\n"
   ]
  },
  {
   "cell_type": "code",
   "execution_count": 72,
   "metadata": {},
   "outputs": [
    {
     "name": "stdout",
     "output_type": "stream",
     "text": [
      "ToThohisos isos kokinondoda fofunon\n"
     ]
    }
   ],
   "source": [
    "print (robberlang(\"This is kinda fun\"))"
   ]
  },
  {
   "cell_type": "code",
   "execution_count": 88,
   "metadata": {},
   "outputs": [],
   "source": [
    "#6\n",
    "\n",
    "def sum(lst):\n",
    "    result = 0\n",
    "    for i in lst:\n",
    "        result += i\n",
    "    return result\n",
    "    \n",
    "def mul(lst):\n",
    "        result = 1\n",
    "        for i in lst:\n",
    "            result*=i\n",
    "        return result"
   ]
  },
  {
   "cell_type": "code",
   "execution_count": 90,
   "metadata": {},
   "outputs": [
    {
     "data": {
      "text/plain": [
       "0"
      ]
     },
     "execution_count": 90,
     "metadata": {},
     "output_type": "execute_result"
    }
   ],
   "source": [
    "sum([3,5,67,7])\n",
    "mul([3,6,5,0])"
   ]
  },
  {
   "cell_type": "code",
   "execution_count": 93,
   "metadata": {},
   "outputs": [
    {
     "data": {
      "text/plain": [
       "'yor ma i'"
      ]
     },
     "execution_count": 93,
     "metadata": {},
     "output_type": "execute_result"
    }
   ],
   "source": [
    "#7 reversing text\n",
    "def reverse(str):\n",
    "  return str[::-1]\n",
    "\n",
    "reverse(\"i am roy\")"
   ]
  },
  {
   "cell_type": "code",
   "execution_count": 96,
   "metadata": {},
   "outputs": [
    {
     "data": {
      "text/plain": [
       "True"
      ]
     },
     "execution_count": 96,
     "metadata": {},
     "output_type": "execute_result"
    }
   ],
   "source": [
    "#8 palindrome\n",
    "def is_palindrome(str):\n",
    "  return str == str[::-1]\n",
    "is_palindrome(\"nitin\")"
   ]
  },
  {
   "cell_type": "code",
   "execution_count": 109,
   "metadata": {},
   "outputs": [
    {
     "data": {
      "text/plain": [
       "True"
      ]
     },
     "execution_count": 109,
     "metadata": {},
     "output_type": "execute_result"
    }
   ],
   "source": [
    "#9  array check\n",
    "def is_member(ele, lst):\n",
    "    for e in lst:\n",
    "        if ele == e:\n",
    "            return True\n",
    "    return False\n",
    "\n",
    "is_member('panda', ['lion', 'zebra', 'elephant', 'panda'])"
   ]
  },
  {
   "cell_type": "code",
   "execution_count": 2,
   "metadata": {},
   "outputs": [],
   "source": [
    "#10 list overlappimg\n",
    "def overlapping(lst1, lst2):\n",
    "    for i in lst1:\n",
    "        for j in lst2:\n",
    "            if i == j:\n",
    "                return True\n",
    "    return False\n"
   ]
  },
  {
   "cell_type": "code",
   "execution_count": 3,
   "metadata": {},
   "outputs": [
    {
     "data": {
      "text/plain": [
       "True"
      ]
     },
     "execution_count": 3,
     "metadata": {},
     "output_type": "execute_result"
    }
   ],
   "source": [
    "overlapping(['nope', 'nothing', 'in'], ['common'])\n",
    "overlapping(['this', 'might', 'work'], ['or', 'maybe', 'this'])"
   ]
  },
  {
   "cell_type": "code",
   "execution_count": 13,
   "metadata": {},
   "outputs": [],
   "source": [
    "#11\n",
    "#\"\"\"Define a function generate_n_chars() that takes an \n",
    "#integer n and a character c and returns a string, n \n",
    "#characters long, consisting only of c:s. For example, \n",
    "#generate_n_chars(5,\"x\") should return the string \"xxxxx\". \n",
    "#(Python is unusual in that you can actually write an expression 5 * \"x\" \n",
    "#that will evaluate to \"xxxxx\". For the sake of the exercise you should \n",
    "#ignore that the problem can be solved in this manner.)\"\"\"\n",
    "\n",
    "def generate_n_chars(n, str):\n",
    "    for i in range(n):\n",
    "        print(x,end='')\n"
   ]
  },
  {
   "cell_type": "code",
   "execution_count": 17,
   "metadata": {},
   "outputs": [
    {
     "name": "stdout",
     "output_type": "stream",
     "text": [
      "xxxxx"
     ]
    }
   ],
   "source": [
    "x = 'x'\n",
    "generate_n_chars(5, x)"
   ]
  },
  {
   "cell_type": "code",
   "execution_count": 31,
   "metadata": {},
   "outputs": [],
   "source": [
    "#12\n",
    "def histogram(lst):\n",
    "    for n in lst:\n",
    "        print (n*\"*\")\n",
    "        print (10 * \"-\") # Just to add some space between each test\n"
   ]
  },
  {
   "cell_type": "code",
   "execution_count": 32,
   "metadata": {},
   "outputs": [
    {
     "name": "stdout",
     "output_type": "stream",
     "text": [
      "***\n",
      "----------\n",
      "*****\n",
      "----------\n",
      "****\n",
      "----------\n"
     ]
    }
   ],
   "source": [
    "histogram([3,5,4])"
   ]
  },
  {
   "cell_type": "code",
   "execution_count": 50,
   "metadata": {},
   "outputs": [],
   "source": [
    "#13\n",
    "def max_in_list(lst):\n",
    "    max = 0\n",
    "    for n in lst:\n",
    "        if n > max:\n",
    "            max = n\n",
    "    return max\n",
    "        "
   ]
  },
  {
   "cell_type": "markdown",
   "metadata": {},
   "source": [
    "max_in_lst([2,4,56,])"
   ]
  },
  {
   "cell_type": "code",
   "execution_count": 52,
   "metadata": {},
   "outputs": [
    {
     "data": {
      "text/plain": [
       "100"
      ]
     },
     "execution_count": 52,
     "metadata": {},
     "output_type": "execute_result"
    }
   ],
   "source": [
    "max_in_list([33,3,4,5,6,7,8,8,9,100])"
   ]
  },
  {
   "cell_type": "code",
   "execution_count": 59,
   "metadata": {},
   "outputs": [],
   "source": [
    "#14\n",
    "def worlen(lst):\n",
    "    lenlist = [len(i) for i in lst]\n",
    "    return lenlist\n"
   ]
  },
  {
   "cell_type": "code",
   "execution_count": 60,
   "metadata": {},
   "outputs": [
    {
     "data": {
      "text/plain": [
       "[5, 6, 5]"
      ]
     },
     "execution_count": 60,
     "metadata": {},
     "output_type": "execute_result"
    }
   ],
   "source": [
    "worlen(['dsdff','dsffsf','dfdfr'])"
   ]
  },
  {
   "cell_type": "code",
   "execution_count": 65,
   "metadata": {},
   "outputs": [],
   "source": [
    "#15\n",
    "def max_in_list(lst):\n",
    "    max = \"\"\n",
    "    for n in lst:\n",
    "        if len(n) > len(max):\n",
    "            max = n\n",
    "    return len(max)\n"
   ]
  },
  {
   "cell_type": "code",
   "execution_count": 67,
   "metadata": {},
   "outputs": [
    {
     "data": {
      "text/plain": [
       "11"
      ]
     },
     "execution_count": 67,
     "metadata": {},
     "output_type": "execute_result"
    }
   ],
   "source": [
    "max_in_list(['edefef','efwefef','revregtrgtf'])"
   ]
  },
  {
   "cell_type": "code",
   "execution_count": 71,
   "metadata": {},
   "outputs": [
    {
     "data": {
      "text/plain": [
       "['ffrfvvv', 'jdhfhfhfhhhf']"
      ]
     },
     "execution_count": 71,
     "metadata": {},
     "output_type": "execute_result"
    }
   ],
   "source": [
    "#16\n",
    "def fil_wor(lst,n):\n",
    "    return [ w for w in lst if len(w)>n]\n",
    "fil_wor(['erefdc','ffrfvvv','jdhfhfhfhhhf'],6)"
   ]
  },
  {
   "cell_type": "code",
   "execution_count": 86,
   "metadata": {},
   "outputs": [],
   "source": [
    "#17\n",
    "import string\n",
    "ignored = string.punctuation + \" \"\n",
    "def is_palindrome(str):\n",
    "    cleanstr = \"\"\n",
    "    for i in str:\n",
    "        cleanstr += \"\" if i in ignored else i\n",
    "        return cleanstr.lower() == cleanstr[::-1].lower()\n",
    "        "
   ]
  },
  {
   "cell_type": "code",
   "execution_count": 87,
   "metadata": {},
   "outputs": [
    {
     "data": {
      "text/plain": [
       "True"
      ]
     },
     "execution_count": 87,
     "metadata": {},
     "output_type": "execute_result"
    }
   ],
   "source": [
    "is_palindrome(\"Go hang a salami I'm a lasagna hog.\")\n"
   ]
  },
  {
   "cell_type": "code",
   "execution_count": 103,
   "metadata": {},
   "outputs": [],
   "source": [
    "#18\n",
    "import string\n",
    "\n",
    "alpha = string.ascii_lowercase\n",
    "\n",
    "def is_pangram(str):\n",
    "    found = []\n",
    "    for c in str.lower():\n",
    "        if (c in alpha and c not in found):\n",
    "            found.append(c)\n",
    "            if (len(found) == len(alpha)):\n",
    "                return True\n",
    "        else:\n",
    "             return False"
   ]
  },
  {
   "cell_type": "code",
   "execution_count": 105,
   "metadata": {},
   "outputs": [
    {
     "data": {
      "text/plain": [
       "False"
      ]
     },
     "execution_count": 105,
     "metadata": {},
     "output_type": "execute_result"
    }
   ],
   "source": [
    "is_pangram(\"the quick brown fox jumps over the lazy dog.\")"
   ]
  },
  {
   "cell_type": "code",
   "execution_count": 108,
   "metadata": {},
   "outputs": [
    {
     "ename": "SyntaxError",
     "evalue": "invalid syntax (<ipython-input-108-79b1cffaa189>, line 4)",
     "output_type": "error",
     "traceback": [
      "\u001b[1;36m  File \u001b[1;32m\"<ipython-input-108-79b1cffaa189>\"\u001b[1;36m, line \u001b[1;32m4\u001b[0m\n\u001b[1;33m    print \"\"\"%(b)d %(bo)s of beer on the wall, %(b)d %(bo)s of beer.Take one down, pass it around, %(lb)d %(lbo)s of beer on the wall.\"\"\" % \\\u001b[0m\n\u001b[1;37m                                                                                                                                        ^\u001b[0m\n\u001b[1;31mSyntaxError\u001b[0m\u001b[1;31m:\u001b[0m invalid syntax\n"
     ]
    }
   ],
   "source": [
    "#19\n",
    "i = 99\n",
    "while i > 0:\n",
    "    print \"\"\"%(b)d %(bo)s of beer on the wall, %(b)d %(bo)s of beer.Take one down, pass it around, %(lb)d %(lbo)s of beer on the wall.\"\"\" % \\\n",
    "    \n",
    "    {'b': i, 'lb': i-1, 'bo': 'bottle' if i == 1 else 'bottles', 'lbo': 'bottle' \\\n",
    "  if i == 2 else 'bottles' }\n",
    "    \n",
    "    i -= 1"
   ]
  },
  {
   "cell_type": "code",
   "execution_count": 111,
   "metadata": {},
   "outputs": [],
   "source": [
    "#20\n",
    "dictionary = {\"merry\":\"god\", \"christmas\":\"jul\", \"and\":\"och\",\"happy\":\"gott\", \"new\":\"nytt\", \"year\":\"ar\"}\n",
    "\n",
    "def translate(lst):\n",
    "    \n",
    "    return [dictionary[w.lower()] for w in lst if w.lower() in dictionary]\n"
   ]
  },
  {
   "cell_type": "code",
   "execution_count": 112,
   "metadata": {},
   "outputs": [
    {
     "data": {
      "text/plain": [
       "['god', 'jul', 'och', 'gott', 'nytt', 'ar']"
      ]
     },
     "execution_count": 112,
     "metadata": {},
     "output_type": "execute_result"
    }
   ],
   "source": [
    " translate(['Merry', 'christmas', 'and', 'happy', 'new', 'year', 'mom'])"
   ]
  },
  {
   "cell_type": "code",
   "execution_count": null,
   "metadata": {},
   "outputs": [],
   "source": []
  }
 ],
 "metadata": {
  "kernelspec": {
   "display_name": "Python 3",
   "language": "python",
   "name": "python3"
  },
  "language_info": {
   "codemirror_mode": {
    "name": "ipython",
    "version": 3
   },
   "file_extension": ".py",
   "mimetype": "text/x-python",
   "name": "python",
   "nbconvert_exporter": "python",
   "pygments_lexer": "ipython3",
   "version": "3.7.3"
  }
 },
 "nbformat": 4,
 "nbformat_minor": 2
}
